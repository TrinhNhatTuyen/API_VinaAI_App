{
 "cells": [
  {
   "attachments": {},
   "cell_type": "markdown",
   "metadata": {},
   "source": [
    "#### Show các bảng và tên cột"
   ]
  },
  {
   "cell_type": "code",
   "execution_count": null,
   "metadata": {},
   "outputs": [],
   "source": [
    "import pyodbc\n",
    "\n",
    "# Kết nối đến cơ sở dữ liệu\n",
    "conn = pyodbc.connect(\"Driver={SQL Server};\"\n",
    "                      \"Server=112.78.15.3;\"\n",
    "                      \"Database=VinaAIAPP;\"\n",
    "                      \"uid=ngoi;\"\n",
    "                      \"pwd=admin123;\")\n",
    "\n",
    "# Tạo đối tượng cursor để thực hiện các truy vấn\n",
    "cursor = conn.cursor()\n",
    "\n",
    "# Truy vấn để lấy danh sách các bảng trong cơ sở dữ liệu\n",
    "tables_query = \"SELECT TABLE_NAME FROM INFORMATION_SCHEMA.TABLES WHERE TABLE_TYPE='BASE TABLE'\"\n",
    "\n",
    "# Thực thi truy vấn và lấy danh sách các bảng\n",
    "tables = cursor.execute(tables_query).fetchall()\n",
    "\n",
    "# Duyệt qua từng bảng và in ra tên bảng và tên các cột tương ứng\n",
    "for table in tables:\n",
    "    table_name = table[0]\n",
    "    print(\"Table:\", table_name)\n",
    "    \n",
    "    # Truy vấn để lấy danh sách các cột trong bảng\n",
    "    columns_query = f\"SELECT COLUMN_NAME FROM INFORMATION_SCHEMA.COLUMNS WHERE TABLE_NAME='{table_name}'\"\n",
    "    \n",
    "    # Thực thi truy vấn và lấy danh sách các cột\n",
    "    columns = cursor.execute(columns_query).fetchall()\n",
    "    \n",
    "    # In ra tên các cột\n",
    "    for column in columns:\n",
    "        column_name = column[0]\n",
    "        print(\"Column:\", column_name)\n",
    "    \n",
    "    print()  # In một dòng trống giữa các bảng\n",
    "\n",
    "# Đóng kết nối và cursor\n",
    "cursor.close()\n",
    "conn.close()\n"
   ]
  },
  {
   "attachments": {},
   "cell_type": "markdown",
   "metadata": {},
   "source": [
    "#### Show data trong bảng Customer"
   ]
  },
  {
   "cell_type": "code",
   "execution_count": 1,
   "metadata": {},
   "outputs": [
    {
     "name": "stdout",
     "output_type": "stream",
     "text": [
      "Username: admin, Password: 12345678, Email: admin@gmail.com, Mobile: 012345678, Verification Code: 948870\n",
      "Username: abc, Password: 123456, Email: abc@gmail.com, Mobile: 0123123123, Verification Code: 030560\n",
      "Username: abc1, Password: 1234561, Email: abc1@gmail.com, Mobile: 0999999999, Verification Code: 803537\n",
      "Username: ab2c21, Password: 12324561, Email: ab22c1@gmail.com, Mobile: 099229999999, Verification Code: 918247\n",
      "Username: ngoc45, Password: 123456, Email: ab2222c1@gmail.com, Mobile: 09922229999999, Verification Code: None\n",
      "Username: ndnxnnd, Password: xxxxxxjxjjx, Email: jxjxhjxj@gmail.com, Mobile: 656565656565, Verification Code: None\n",
      "Username: ngocuu, Password: 123456, Email: ngudhdjdhd@gmail.com, Mobile: 686898986866886, Verification Code: None\n",
      "Username: ngocuuu, Password: 123456, Email: ngudhdjdddhd@gmail.com, Mobile: 68689898686688688, Verification Code: None\n",
      "Username: jxhxhxjd, Password: None, Email: jxnxnxn@gmail.com, Mobile: 6666666, Verification Code: None\n",
      "Username: jxhxhxjddxd, Password: bdbdbdhd, Email: jxxznxnxn@gmail.com, Mobile: 666886666, Verification Code: None\n",
      "Username: jxhxhxjdxxxdxd, Password: bdbdbdhdxx, Email: jxxznxxxxnxn@gmail.com, Mobile: 666886688866, Verification Code: None\n",
      "Username: ngocgoo, Password: 123456, Email: ghhfhhhh@gmail.com, Mobile: 66666266666, Verification Code: None\n",
      "Username: ngocgoof, Password: 123456, Email: ghhsfhhhh@gmail.com, Mobile: 666646266666, Verification Code: None\n",
      "Username: ngocggfoofcfc, Password: 1234cc56, Email: ghhsddfhcchhh@gmail.com, Mobile: 6666846266856665, Verification Code: None\n",
      "Username: maimai, Password: 124456, Email: mai@gmail.com, Mobile: 6666846266856, Verification Code: 938037\n",
      "Username: mai1, Password: 8888888, Email: mai1@gmail.com, Mobile: 65646464646464, Verification Code: None\n",
      "Username: ngoc5, Password: 7777777, Email: luuanhloan1405@gmail.com, Mobile: 0336098364, Verification Code: 486731\n",
      "Username: uuuuu, Password: xxjxjxjxjx, Email: nxnxnxj@gmail.com, Mobile: 68686866868, Verification Code: None\n",
      "Username: zzxxxxx, Password: , Email: , Mobile: , Verification Code: None\n"
     ]
    }
   ],
   "source": [
    "import pyodbc\n",
    "import pandas as pd\n",
    "\n",
    "# Kết nối đến cơ sở dữ liệu\n",
    "conn = pyodbc.connect(\"Driver={SQL Server};\"\n",
    "                      \"Server=112.78.15.3;\"\n",
    "                      \"Database=VinaAIAPP;\"\n",
    "                      \"uid=ngoi;\"\n",
    "                      \"pwd=admin123;\")\n",
    "\n",
    "# Tạo đối tượng cursor để thực hiện các truy vấn\n",
    "cursor = conn.cursor()\n",
    "\n",
    "query = \"SELECT Username, Password, Email, Mobile, VerificationCode FROM Customer\"\n",
    "cursor.execute(query)\n",
    "\n",
    "for row in cursor:\n",
    "    username = row.Username\n",
    "    password = row.Password\n",
    "    email = row.Email\n",
    "    mobile = row.Mobile\n",
    "    verification_code = row.VerificationCode\n",
    "    \n",
    "    print(f\"Username: {username}, Password: {password}, Email: {email}, Mobile: {mobile}, Verification Code: {verification_code}\")\n",
    "\n",
    "# Đóng kết nối và cursor\n",
    "cursor.close()\n",
    "conn.close()\n"
   ]
  },
  {
   "attachments": {},
   "cell_type": "markdown",
   "metadata": {},
   "source": [
    "#### Tải bảng Customer về"
   ]
  },
  {
   "cell_type": "code",
   "execution_count": 5,
   "metadata": {},
   "outputs": [
    {
     "name": "stderr",
     "output_type": "stream",
     "text": [
      "C:\\Users\\Administrator\\AppData\\Local\\Temp\\ipykernel_12720\\2914095440.py:14: UserWarning: pandas only supports SQLAlchemy connectable (engine/connection) or database string URI or sqlite3 DBAPI2 connection. Other DBAPI2 objects are not tested. Please consider using SQLAlchemy.\n",
      "  df = pd.read_sql_query(query, conn)\n"
     ]
    }
   ],
   "source": [
    "import pyodbc\n",
    "import pandas as pd\n",
    "\n",
    "# Kết nối đến cơ sở dữ liệu\n",
    "conn = pyodbc.connect(\"Driver={SQL Server};\"\n",
    "                      \"Server=112.78.15.3;\"\n",
    "                      \"Database=VinaAIAPP;\"\n",
    "                      \"uid=ngoi;\"\n",
    "                      \"pwd=admin123;\")\n",
    "\n",
    "# Tạo đối tượng cursor để thực hiện các truy vấn\n",
    "cursor = conn.cursor()\n",
    "query = \"SELECT Username, Password, Email, Mobile, VerificationCode FROM Customer\"\n",
    "df = pd.read_sql_query(query, conn)\n",
    "df.to_csv('customer.csv', index=False)\n",
    "cursor.close()\n",
    "conn.close()"
   ]
  },
  {
   "attachments": {},
   "cell_type": "markdown",
   "metadata": {},
   "source": [
    "#### In tên cột, kiểu dữ liệu của bảng TaiKhoan"
   ]
  },
  {
   "cell_type": "code",
   "execution_count": 5,
   "metadata": {},
   "outputs": [
    {
     "name": "stdout",
     "output_type": "stream",
     "text": [
      "Column: ID_TaiKhoan, Data Type: int\n",
      "Column: TenTaiKhoan, Data Type: varchar\n",
      "Column: MatKhau, Data Type: varchar\n",
      "Column: ID_Quyen, Data Type: int\n",
      "Column: Email, Data Type: varchar\n",
      "Column: SDT, Data Type: varchar\n",
      "Column: MaXacNhan, Data Type: varchar\n"
     ]
    }
   ],
   "source": [
    "import pyodbc\n",
    "\n",
    "# Kết nối đến cơ sở dữ liệu\n",
    "conn = pyodbc.connect(\"Driver={SQL Server};\"\n",
    "                      \"Server=112.78.15.3;\"\n",
    "                      \"Database=ChamCong_Cafe;\"\n",
    "                      \"uid=ngoi;\"\n",
    "                      \"pwd=admin123;\")\n",
    "\n",
    "# Tạo đối tượng cursor để thực hiện các truy vấn\n",
    "cursor = conn.cursor()\n",
    "\n",
    "# Truy vấn để lấy thông tin về các cột và kiểu dữ liệu trong bảng TaiKhoan\n",
    "query = \"SELECT COLUMN_NAME, DATA_TYPE FROM INFORMATION_SCHEMA.COLUMNS WHERE TABLE_NAME = 'TaiKhoan'\"\n",
    "\n",
    "# Thực thi truy vấn và lấy kết quả\n",
    "result = cursor.execute(query).fetchall()\n",
    "\n",
    "# In ra tên cột và kiểu dữ liệu tương ứng\n",
    "for row in result:\n",
    "    column_name = row.COLUMN_NAME\n",
    "    data_type = row.DATA_TYPE\n",
    "    print(f\"Column: {column_name}, Data Type: {data_type}\")\n",
    "\n",
    "# Đóng kết nối và cursor\n",
    "cursor.close()\n",
    "conn.close()\n"
   ]
  },
  {
   "attachments": {},
   "cell_type": "markdown",
   "metadata": {},
   "source": [
    "#### Tạo key"
   ]
  },
  {
   "cell_type": "code",
   "execution_count": null,
   "metadata": {},
   "outputs": [],
   "source": [
    "import secrets\n",
    "\n",
    "key_length = 32  # Độ dài key trong byte (64 ký tự hex)\n",
    "for i in range(10):\n",
    "    # Tạo key ngẫu nhiên\n",
    "    random_bytes = secrets.token_bytes(key_length)\n",
    "    key = secrets.token_hex(key_length)\n",
    "\n",
    "    print(key)\n"
   ]
  },
  {
   "attachments": {},
   "cell_type": "markdown",
   "metadata": {},
   "source": [
    "#### In ra tên các cột của các bảng Customer, CustomerHome, CustomerImage, Camera, Gateway, Lock"
   ]
  },
  {
   "cell_type": "code",
   "execution_count": 1,
   "metadata": {},
   "outputs": [
    {
     "name": "stdout",
     "output_type": "stream",
     "text": [
      "Province: \u001b[1mProvinceID\u001b[0m, ProvinceName, AreaID.\n",
      "District: DistrictID, DistrictName, ProvinceID.\n",
      "Area: \u001b[1mAreaID\u001b[0m, AreaName.\n",
      "Gateway: GatewayID, GatewayName, HomeID, GatewayStatus.\n",
      "Camera: \u001b[1mCameraID\u001b[0m, CameraName, HomeID, CameraStatus, CamUsername, CamPass, RTSP.\n",
      "CustomerImage: \u001b[1mImageID\u001b[0m, ImageName, ImageBase64, CustomerID, ImagePath, ImageBinArray.\n",
      "Customer: \u001b[1mCustomerID\u001b[0m, Username, Password, Email, Mobile, FullName, IsActive, Address, DistrictID, VerificationCode, HomeID.\n",
      "LockHistory: \u001b[1mLockHistoryID\u001b[0m, HistoryDescription, HistoryCode, LockID, HistoryDate.\n",
      "CustomerHome: \u001b[1mHomeID\u001b[0m, CustomerID, HomeName, HomeAddress, DistrictID.\n",
      "Lock: \u001b[1mLockID\u001b[0m, LockName, HomeID, LockStatus.\n",
      "HomeMember: AdminID, HomeID, HomeMemberID.\n"
     ]
    }
   ],
   "source": [
    "import pyodbc\n",
    "\n",
    "# Kết nối đến CSDL\n",
    "conn = pyodbc.connect(\"Driver={SQL Server};\"\n",
    "                      \"Server=112.78.15.3;\"\n",
    "                      \"Database=VinaAIAPP;\"\n",
    "                      \"uid=ngoi;\"\n",
    "                      \"pwd=admin123;\")\n",
    "\n",
    "# Hàm lấy tên các bảng trong csdl\n",
    "def get_table_names():\n",
    "    table_names = []\n",
    "    cursor = conn.cursor()\n",
    "    cursor.execute(\"SELECT TABLE_NAME FROM INFORMATION_SCHEMA.TABLES WHERE TABLE_TYPE = 'BASE TABLE';\")\n",
    "    rows = cursor.fetchall()\n",
    "    table_names = [row[0] for row in rows]\n",
    "    return table_names\n",
    "# Hàm lấy tên các cột của bảng\n",
    "def get_table_columns(table_name):\n",
    "    cursor = conn.cursor()\n",
    "    cursor.execute(f\"SELECT COLUMN_NAME FROM INFORMATION_SCHEMA.COLUMNS WHERE TABLE_NAME = '{table_name}'\")\n",
    "    columns = cursor.fetchall()\n",
    "    return [column[0] for column in columns]\n",
    "\n",
    "\n",
    "def check_PK(table_name, column_name):\n",
    "    cursor = conn.cursor()\n",
    "    cursor.execute(f\"\"\"\n",
    "        SELECT COLUMN_NAME\n",
    "        FROM INFORMATION_SCHEMA.KEY_COLUMN_USAGE\n",
    "        WHERE TABLE_NAME = '{table_name}' AND COLUMN_NAME = '{column_name}'\n",
    "    \"\"\")\n",
    "    primary_key_columns = [row[0] for row in cursor.fetchall()]\n",
    "    if column_name in primary_key_columns:\n",
    "        return \"\\033[1m\"+column_name+\"\\033[0m\"\n",
    "    else:\n",
    "        return column_name\n",
    "\n",
    "# Tên các bảng cần kiểm tra\n",
    "# table_names = [\"Customer\", \"CustomerHome\", \"CustomerImage\", \"Camera\", \"Gateway\", \"Lock\"]\n",
    "table_names = get_table_names()\n",
    "\n",
    "# In tên các cột trên cùng một hàng\n",
    "for table_name in table_names:\n",
    "    print(f\"{table_name}: \", end=\"\")\n",
    "    columns = get_table_columns(table_name)\n",
    "    for i in range(len(columns)):\n",
    "        if i==len(columns)-1:\n",
    "            print(check_PK(table_name, columns[i])+'.')\n",
    "        else:\n",
    "            print(check_PK(table_name, columns[i])+', ', end=\"\")\n",
    "    "
   ]
  },
  {
   "cell_type": "code",
   "execution_count": 5,
   "metadata": {},
   "outputs": [],
   "source": [
    "cursor = conn.cursor()\n",
    "cursor.execute(\"SELECT CustomerID, Password, Email FROM Customer WHERE Username = ? OR Username = ? OR Username = ? \",\n",
    "               ('admin','abc','abc1'))\n",
    "results = cursor.fetchall()\n",
    "if len(results) == 1:\n",
    "    customerid = results[0][0]\n",
    "    print(customerid)"
   ]
  },
  {
   "cell_type": "code",
   "execution_count": 11,
   "metadata": {},
   "outputs": [
    {
     "data": {
      "text/plain": [
       "[(1, '12345678', 'admin@gmail.com'),\n",
       " (2, '123456', 'abc@gmail.com'),\n",
       " (3, '1234561', 'abc1@gmail.com')]"
      ]
     },
     "execution_count": 11,
     "metadata": {},
     "output_type": "execute_result"
    }
   ],
   "source": [
    "results"
   ]
  },
  {
   "cell_type": "code",
   "execution_count": null,
   "metadata": {},
   "outputs": [],
   "source": [
    "import pyodbc\n",
    "\n",
    "# Kết nối đến CSDL\n",
    "conn = pyodbc.connect(\"Driver={SQL Server};\"\n",
    "                      \"Server=112.78.15.3;\"\n",
    "                      \"Database=VinaAIAPP;\"\n",
    "                      \"uid=ngoi;\"\n",
    "                      \"pwd=admin123;\")\n",
    "\n",
    "# Tên các bảng cần kiểm tra\n",
    "table_names = [\"Customer\", \"CustomerHome\", \"CustomerImage\", \"Camera\", \"Gateway\", \"Lock\"]\n",
    "\n",
    "# Hàm lấy thông tin cột và khóa chính của bảng\n",
    "def get_table_info(table_name):\n",
    "    cursor = conn.cursor()\n",
    "    cursor.execute(f\"SELECT COLUMN_NAME, COLUMN_KEY FROM INFORMATION_SCHEMA.COLUMNS WHERE TABLE_NAME = '{table_name}'\")\n",
    "    table_info = cursor.fetchall()\n",
    "    return table_info\n",
    "\n",
    "# Hàm in thông tin các cột của mỗi bảng\n",
    "def print_table_info(table_name):\n",
    "    table_info = get_table_info(table_name)\n",
    "    columns_data = []\n",
    "    for column_info in table_info:\n",
    "        column_name = column_info[0]\n",
    "        column_key = column_info[1]\n",
    "        is_primary_key = \" (Primary Key)\" if column_key == \"PRI\" else \"\"\n",
    "        columns_data.append(f\"{column_name}{is_primary_key}\")\n",
    "    print(f\"{table_name}:\", \", \".join(columns_data))\n",
    "\n",
    "# In thông tin của từng bảng\n",
    "for table_name in table_names:\n",
    "    print_table_info(table_name)\n"
   ]
  },
  {
   "attachments": {},
   "cell_type": "markdown",
   "metadata": {},
   "source": [
    "#### Kết nối database"
   ]
  },
  {
   "cell_type": "code",
   "execution_count": 1,
   "metadata": {},
   "outputs": [
    {
     "name": "stdout",
     "output_type": "stream",
     "text": [
      "Kết nối thành công!\n"
     ]
    }
   ],
   "source": [
    "import pyodbc, time\n",
    "def connect_to_database():\n",
    "    max_retries = 5\n",
    "    retry_delay = 5  # Đợi 5 giây trước khi thử kết nối lại\n",
    "\n",
    "    for retry_count in range(max_retries):\n",
    "        try:\n",
    "            conn = pyodbc.connect(\"Driver={SQL Server};\"\n",
    "                                  \"Server=112.78.15.3;\"\n",
    "                                  \"Database=VinaAIAPP;\"\n",
    "                                  \"uid=ngoi;\"\n",
    "                                  \"pwd=admin123;\")\n",
    "            print(\"Kết nối thành công!\")\n",
    "            return conn  # Trả về kết nối nếu thành công\n",
    "        except pyodbc.OperationalError:\n",
    "            if retry_count < max_retries - 1:\n",
    "                print(\"Kết nối không thành công. Thử kết nối lại sau {} giây.\".format(retry_delay))\n",
    "                time.sleep(retry_delay)\n",
    "            else:\n",
    "                print(\"Không thể kết nối đến cơ sở dữ liệu sau nhiều lần thử. Đã đạt đến giới hạn thử lại.\")\n",
    "                raise\n",
    "\n",
    "conn = connect_to_database()\n",
    "cursor = conn.cursor()"
   ]
  },
  {
   "cell_type": "code",
   "execution_count": 12,
   "metadata": {},
   "outputs": [
    {
     "name": "stdout",
     "output_type": "stream",
     "text": [
      "30 41\n"
     ]
    }
   ],
   "source": [
    "username =  'mai1'\n",
    "homename =  'vinaai'\n",
    "admin_id =  36\n",
    "customerid = 42\n",
    "ten_tai_khoan_email_sdt = 'mai1'\n",
    "homeid = None\n",
    "home_info_list = []\n",
    "\n",
    "\n",
    "cursor.execute(\"SELECT HomeID, AdminID FROM HomeMember WHERE HomeMemberID = ?\", customerid)\n",
    "results = cursor.fetchall()\n",
    "# Lấy thông tin căn hộ được thêm quyền\n",
    "for homeid, admin_id in results:\n",
    "    print(homeid, admin_id)\n",
    "    # cursor.execute(\"SELECT HomeName, HomeAddress, DistrictID FROM CustomerHome WHERE HomeID = ? AND CustomerID = ?\", \n",
    "    #             (homeid, admin_id))\n",
    "    # re = cursor.fetchone()\n",
    "    # # Chuyển danh sách các tuple thành danh sách các dictionary\n",
    "    # home_info_list.append({\n",
    "    #     'HomeName': re[0][0],\n",
    "    #     'HomeAddress': re[0][1],\n",
    "    #     'DistrictID': re[0][2],\n",
    "    #     'HomeID': homeid\n",
    "    # })\n",
    "\n"
   ]
  },
  {
   "cell_type": "code",
   "execution_count": 26,
   "metadata": {},
   "outputs": [
    {
     "data": {
      "text/plain": [
       "<pyodbc.Cursor at 0x20ea9fa4630>"
      ]
     },
     "execution_count": 26,
     "metadata": {},
     "output_type": "execute_result"
    }
   ],
   "source": [
    "cursor.execute(\"SELECT HomeName, HomeAddress, DistrictID FROM CustomerHome WHERE HomeID = ? AND CustomerID = ?\", \n",
    "                (30, 41))"
   ]
  },
  {
   "cell_type": "code",
   "execution_count": 45,
   "metadata": {},
   "outputs": [
    {
     "data": {
      "text/plain": [
       "'vinaai'"
      ]
     },
     "execution_count": 45,
     "metadata": {},
     "output_type": "execute_result"
    }
   ],
   "source": [
    "cursor.execute(\"SELECT HomeName FROM CustomerHome WHERE HomeID = ? AND CustomerID = ?\", (results[0][0],admin_id))\n",
    "cursor.fetchall()[0][0]"
   ]
  },
  {
   "cell_type": "code",
   "execution_count": 40,
   "metadata": {},
   "outputs": [
    {
     "name": "stdout",
     "output_type": "stream",
     "text": [
      "[(1, )]\n"
     ]
    },
    {
     "name": "stderr",
     "output_type": "stream",
     "text": [
      "C:\\Users\\Administrator\\AppData\\Local\\Temp\\ipykernel_12892\\4199824928.py:1: DeprecationWarning: PyUnicode_FromUnicode(NULL, size) is deprecated; use PyUnicode_New() instead\n",
      "  print(results)\n"
     ]
    }
   ],
   "source": [
    "print(results)"
   ]
  },
  {
   "cell_type": "code",
   "execution_count": null,
   "metadata": {},
   "outputs": [],
   "source": [
    "# Lấy thông tin khóa\n",
    "cursor.execute(\"SELECT LockID, LockName, LockStatus FROM Lock WHERE HomeID = ?\", homeid)\n",
    "results = cursor.fetchall()\n",
    "# Chuyển danh sách các tuple thành danh sách các dictionary\n",
    "for result in results:\n",
    "    lock_info_list.append({\n",
    "        'LockID': result[0],\n",
    "        'LockName': result[1],\n",
    "        'LockStatus': result[2] if result[2]!=None else 'Unknown',\n",
    "    })\n",
    "\n",
    "# Chuyển danh sách thành định dạng JSON và trả về\n",
    "if len(results)==0:\n",
    "    print(f\"Không có khóa nào được thêm User {ten_tai_khoan_email_sdt}\")\n",
    "else:\n",
    "    print(f\"có {len(results)} khóa được thêm User {ten_tai_khoan_email_sdt}\")"
   ]
  },
  {
   "cell_type": "code",
   "execution_count": 23,
   "metadata": {},
   "outputs": [
    {
     "data": {
      "text/plain": [
       "<pyodbc.Cursor at 0x1710e324830>"
      ]
     },
     "execution_count": 23,
     "metadata": {},
     "output_type": "execute_result"
    }
   ],
   "source": [
    "query_check = \"SELECT HomeID FROM HomeMember WHERE AdminID = ?\"\n",
    "cursor.execute(query_check, 22)\n"
   ]
  }
 ],
 "metadata": {
  "kernelspec": {
   "display_name": "env1",
   "language": "python",
   "name": "python3"
  },
  "language_info": {
   "codemirror_mode": {
    "name": "ipython",
    "version": 3
   },
   "file_extension": ".py",
   "mimetype": "text/x-python",
   "name": "python",
   "nbconvert_exporter": "python",
   "pygments_lexer": "ipython3",
   "version": "3.10.9"
  },
  "orig_nbformat": 4
 },
 "nbformat": 4,
 "nbformat_minor": 2
}
