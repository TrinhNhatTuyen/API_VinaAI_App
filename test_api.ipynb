{
 "cells": [
  {
   "cell_type": "code",
   "execution_count": 1,
   "metadata": {},
   "outputs": [],
   "source": [
    "import requests\n",
    "import json, cv2, base64\n",
    "import numpy as np\n",
    "import matplotlib.pyplot as plt\n",
    "\n",
    "ip = '192.168.6.17'\n",
    "def chuyen_base64_sang_anh(anh_base64):\n",
    "    try:\n",
    "        anh_base64 = np.frombuffer(base64.b64decode(anh_base64), dtype=np.uint8)\n",
    "        anh_base64 = cv2.imdecode(anh_base64, cv2.IMREAD_ANYCOLOR)\n",
    "    except:\n",
    "        return \"chuyen fail\"\n",
    "    return anh_base64"
   ]
  },
  {
   "attachments": {},
   "cell_type": "markdown",
   "metadata": {},
   "source": [
    "#### Alert"
   ]
  },
  {
   "cell_type": "code",
   "execution_count": 2,
   "metadata": {},
   "outputs": [
    {
     "name": "stdout",
     "output_type": "stream",
     "text": [
      "Yêu cầu POST thành công!\n"
     ]
    }
   ],
   "source": [
    "api_url = 'http://'+ip+':5000/api/post_alert'\n",
    "data = {\n",
    "    'alert': \"1\"\n",
    "}\n",
    "response = requests.post(api_url, json=data)\n",
    "if response.status_code == 200:\n",
    "    print(\"Yêu cầu POST thành công!\")"
   ]
  },
  {
   "cell_type": "code",
   "execution_count": 2,
   "metadata": {},
   "outputs": [
    {
     "name": "stdout",
     "output_type": "stream",
     "text": [
      "Giá trị alert nhận được: 1      \n"
     ]
    }
   ],
   "source": [
    "api_url = 'http://'+ip+':5000/api/get_alert'\n",
    "response = requests.get(api_url)\n",
    "if response.status_code == 200:\n",
    "    data = response.json()\n",
    "    alert_value = data['alert']\n",
    "    print(\"Giá trị alert nhận được:\", alert_value)"
   ]
  },
  {
   "attachments": {},
   "cell_type": "markdown",
   "metadata": {},
   "source": [
    "### Account"
   ]
  },
  {
   "cell_type": "code",
   "execution_count": 10,
   "metadata": {},
   "outputs": [
    {
     "name": "stdout",
     "output_type": "stream",
     "text": [
      "{'message': 'Tên tài khoản, Email, Số điện thoại đã tồn tại.'}\n"
     ]
    }
   ],
   "source": [
    "api_url = 'http://'+ip+':5000/api/account/add'\n",
    "data = {\n",
    "    'key': '5c1f45bde9d2aff92e03acbac0b6d49f6410ca490c1fe85a082650ee9c23f63d',\n",
    "    'username': 'adudududu',\n",
    "    'password': '12345678',\n",
    "    'email': 'adudududu@gmail.com',\n",
    "    'mobile': '031649751',\n",
    "    }\n",
    "response = requests.post(api_url, json=data)\n",
    "print(response.json())  # Phản hồi từ API"
   ]
  },
  {
   "cell_type": "code",
   "execution_count": 3,
   "metadata": {},
   "outputs": [
    {
     "name": "stdout",
     "output_type": "stream",
     "text": [
      "{'Exist': 1}\n"
     ]
    }
   ],
   "source": [
    "api_url = 'http://'+ip+':5000/api/account/login'\n",
    "data = {\n",
    "    'key': '5c1f45bde9d2aff92e03acbac0b6d49f6410ca490c1fe85a082650ee9c23f63d',\n",
    "    'ten_tai_khoan_email_sdt': '099229999999',\n",
    "    'password': '12324561',\n",
    "    }\n",
    "response = requests.post(api_url, json=data)\n",
    "print(response.json())  # Phản hồi từ API"
   ]
  },
  {
   "cell_type": "code",
   "execution_count": 4,
   "metadata": {},
   "outputs": [
    {
     "name": "stdout",
     "output_type": "stream",
     "text": [
      "{'message': '340047'}\n"
     ]
    }
   ],
   "source": [
    "api_url = 'http://'+ip+':5000/api/account/lay-maxacnhan'\n",
    "data = {\n",
    "    'key': '5c1f45bde9d2aff92e03acbac0b6d49f6410ca490c1fe85a082650ee9c23f63d',\n",
    "    'email': 'vbnm@gmail.com',\n",
    "    }\n",
    "response = requests.post(api_url, json=data)\n",
    "print(response.json())  # Phản hồi từ API"
   ]
  },
  {
   "cell_type": "code",
   "execution_count": 7,
   "metadata": {},
   "outputs": [
    {
     "name": "stdout",
     "output_type": "stream",
     "text": [
      "{'message': 'Mã xác nhận Đúng'}\n"
     ]
    }
   ],
   "source": [
    "api_url = 'http://'+ip+':5000/api/account/kt-maxacnhan'\n",
    "data = {\n",
    "    'key': '5c1f45bde9d2aff92e03acbac0b6d49f6410ca490c1fe85a082650ee9c23f63d',\n",
    "    'email': 'luuanhloan1405@gmail.com',\n",
    "    'maxacnhan': '379116',\n",
    "    }\n",
    "response = requests.post(api_url, json=data)\n",
    "print(response.json())  # Phản hồi từ API"
   ]
  },
  {
   "cell_type": "code",
   "execution_count": 11,
   "metadata": {},
   "outputs": [
    {
     "name": "stdout",
     "output_type": "stream",
     "text": [
      "{'message': 'Cập nhật mật khẩu thành công'}\n"
     ]
    }
   ],
   "source": [
    "api_url = 'http://'+ip+':5000/api/account/capnhat-matkhau'\n",
    "data = {\n",
    "    'key': '5c1f45bde9d2aff92e03acbac0b6d49f6410ca490c1fe85a082650ee9c23f63d',\n",
    "    'email': 'vbnm@gmail.com',\n",
    "    'matkhaumoi': '11115555'\n",
    "}\n",
    "response = requests.post(api_url, json=data)\n",
    "print(response.json())  # Phản hồi từ API"
   ]
  },
  {
   "attachments": {},
   "cell_type": "markdown",
   "metadata": {},
   "source": [
    "### Ads"
   ]
  },
  {
   "cell_type": "code",
   "execution_count": null,
   "metadata": {},
   "outputs": [],
   "source": [
    "api_url = 'http://'+ip+':5000/api/ads/banner-img'\n",
    "response = requests.get(api_url)\n",
    "image = chuyen_base64_sang_anh(response.text)\n",
    "image_rgb = cv2.cvtColor(image, cv2.COLOR_BGR2RGB)\n",
    "plt.imshow(image_rgb)\n",
    "plt.axis('off')\n",
    "plt.show()"
   ]
  },
  {
   "attachments": {},
   "cell_type": "markdown",
   "metadata": {},
   "source": [
    "### Lock"
   ]
  },
  {
   "cell_type": "code",
   "execution_count": 12,
   "metadata": {},
   "outputs": [
    {
     "name": "stdout",
     "output_type": "stream",
     "text": [
      "4a6fcd71e9361985a5c5f6c8e3ad68d1\n"
     ]
    }
   ],
   "source": [
    "api_url = 'http://'+ip+':5000/api/lock/get-accesstoken'\n",
    "response = requests.post(api_url)\n",
    "print(response.text)  # Phản hồi từ API\n",
    "access_token = response.text"
   ]
  },
  {
   "cell_type": "code",
   "execution_count": 17,
   "metadata": {},
   "outputs": [
    {
     "name": "stdout",
     "output_type": "stream",
     "text": [
      "{\"message\":\"Unlock Successful!\"}\n",
      "\n"
     ]
    }
   ],
   "source": [
    "api_url = 'http://'+ip+':5000/api/lock/unlock'\n",
    "data = {\n",
    "    'key': '5c1f45bde9d2aff92e03acbac0b6d49f6410ca490c1fe85a082650ee9c23f63d',\n",
    "    'client_id': '87ed6cf1e9274e65af6500193fd7dce8',\n",
    "    'lock_id': '9399008',\n",
    "    'access_token': access_token,\n",
    "}\n",
    "response = requests.post(api_url, json=data)\n",
    "print(response.text)  # Phản hồi từ API"
   ]
  },
  {
   "cell_type": "code",
   "execution_count": 21,
   "metadata": {},
   "outputs": [
    {
     "name": "stdout",
     "output_type": "stream",
     "text": [
      "Locked\n"
     ]
    }
   ],
   "source": [
    "api_url = 'http://'+ip+':5000/api/lock/state'\n",
    "data = {\n",
    "    'key': '5c1f45bde9d2aff92e03acbac0b6d49f6410ca490c1fe85a082650ee9c23f63d',\n",
    "    'client_id': '87ed6cf1e9274e65af6500193fd7dce8',\n",
    "    'lock_id': '9399008',\n",
    "    'access_token': access_token,\n",
    "}\n",
    "response = requests.post(api_url, json=data)\n",
    "print(response.text)  # Phản hồi từ API"
   ]
  },
  {
   "cell_type": "code",
   "execution_count": 7,
   "metadata": {},
   "outputs": [
    {
     "name": "stdout",
     "output_type": "stream",
     "text": [
      "[{'HomeName': 'căn 99', 'HomeAddress': 'hdhd', 'DistrictID': 'hdbdjd', 'HomeID': 30}]\n",
      "{'HomeName': 'căn 99', 'HomeAddress': 'hdhd', 'DistrictID': 'hdbdjd', 'HomeID': 30}\n"
     ]
    }
   ],
   "source": [
    "api_url = 'http://'+ip+':5000/api/lock/homeinfo'\n",
    "data = {\n",
    "    'key': '5c1f45bde9d2aff92e03acbac0b6d49f6410ca490c1fe85a082650ee9c23f63d',\n",
    "    'username': 'tuyen2',\n",
    "}\n",
    "response = requests.post(api_url, json=data)\n",
    "lock_list = json.loads(response.text)\n",
    "# print(lock_list)\n",
    "# In từng phần tử trong danh sách\n",
    "for lock in lock_list:\n",
    "    print(lock)"
   ]
  },
  {
   "cell_type": "code",
   "execution_count": 5,
   "metadata": {},
   "outputs": [
    {
     "name": "stdout",
     "output_type": "stream",
     "text": [
      "{'message': 'Xóa thành công Home 32'}\n"
     ]
    }
   ],
   "source": [
    "api_url = 'http://'+ip+':5000/api/lock/delete-home'\n",
    "data = {\n",
    "    'key': '5c1f45bde9d2aff92e03acbac0b6d49f6410ca490c1fe85a082650ee9c23f63d',\n",
    "    'homeid': 32,\n",
    "}\n",
    "response = requests.post(api_url, json=data)\n",
    "lock_list = json.loads(response.text)\n",
    "print(lock_list)\n",
    "# In từng phần tử trong danh sách\n",
    "# for lock in lock_list:\n",
    "#     print(lock)"
   ]
  },
  {
   "cell_type": "code",
   "execution_count": 23,
   "metadata": {},
   "outputs": [
    {
     "name": "stdout",
     "output_type": "stream",
     "text": [
      "<bound method Response.json of <Response [500]>>\n"
     ]
    }
   ],
   "source": [
    "api_url = 'http://'+ip+':5000/api/lock/addhome'\n",
    "data = {\n",
    "    'key': '5c1f45bde9d2aff92e03acbac0b6d49f6410ca490c1fe85a082650ee9c23f63d',\n",
    "    'username': 'mai1',\n",
    "    'homename': 'ngoc',\n",
    "    'homeaddress': 'nxnxnxxx',\n",
    "    'districtid': 'hxhxhxxx',\n",
    "}\n",
    "response = requests.post(api_url, json=data)\n",
    "print(response.json)  # Phản hồi từ API"
   ]
  },
  {
   "cell_type": "code",
   "execution_count": 31,
   "metadata": {},
   "outputs": [
    {
     "name": "stdout",
     "output_type": "stream",
     "text": [
      "[{'LockID': '9399008', 'LockName': 'khoá ok', 'LockStatus': 'Unknown'}]\n",
      "{'LockID': '9399008', 'LockName': 'khoá ok', 'LockStatus': 'Unknown'}\n"
     ]
    }
   ],
   "source": [
    "api_url = 'http://'+ip+':5000/api/lock/lockinfo'\n",
    "data = {\n",
    "    'key': '5c1f45bde9d2aff92e03acbac0b6d49f6410ca490c1fe85a082650ee9c23f63d',\n",
    "    'username': 'mai1',\n",
    "    'homeid': 15,\n",
    "}\n",
    "response = requests.post(api_url, json=data)\n",
    "lock_list = json.loads(response.text)\n",
    "print(lock_list)\n",
    "# In từng phần tử trong danh sách\n",
    "for lock in lock_list:\n",
    "    print(lock)"
   ]
  },
  {
   "cell_type": "code",
   "execution_count": 41,
   "metadata": {},
   "outputs": [
    {
     "name": "stdout",
     "output_type": "stream",
     "text": [
      "{'message': 'Thêm khóa thành công'}\n",
      "message\n"
     ]
    }
   ],
   "source": [
    "api_url = 'http://'+ip+':5000/api/lock/addlock'\n",
    "data = {\n",
    "    'key': '5c1f45bde9d2aff92e03acbac0b6d49f6410ca490c1fe85a082650ee9c23f63d',\n",
    "    'lockid': '99300',\n",
    "    'lockname': 'new3',\n",
    "    'username': 'ngocbk',\n",
    "    'homename': 'vinaai',\n",
    "}\n",
    "response = requests.post(api_url, json=data)\n",
    "lock_list = json.loads(response.text)\n",
    "print(lock_list)\n",
    "# In từng phần tử trong danh sách\n",
    "for lock in lock_list:\n",
    "    print(lock)"
   ]
  },
  {
   "cell_type": "code",
   "execution_count": null,
   "metadata": {},
   "outputs": [],
   "source": [
    "api_url = 'http://'+ip+':5000/api/lock/add-home-member'\n",
    "data = {\n",
    "    'key': '5c1f45bde9d2aff92e03acbac0b6d49f6410ca490c1fe85a082650ee9c23f63d',\n",
    "    'username': 'mai1',\n",
    "    'homename': 'căn1',\n",
    "    'homemember': 'abc1',\n",
    "}\n",
    "response = requests.post(api_url, json=data)\n",
    "print(response.json)  # Phản hồi từ API"
   ]
  },
  {
   "cell_type": "code",
   "execution_count": 48,
   "metadata": {},
   "outputs": [
    {
     "name": "stdout",
     "output_type": "stream",
     "text": [
      "{\"message\":\"LockHistory updated successfully\"}\n",
      "\n"
     ]
    }
   ],
   "source": [
    "api_url = 'http://'+ip+':5000/api/lock/updatehistory'\n",
    "from datetime import datetime\n",
    "current_datetime = datetime.now()\n",
    "formatted_datetime = current_datetime.strftime(\"%Y-%m-%d %H:%M:%S\")\n",
    "data = {\n",
    "    'key': '5c1f45bde9d2aff92e03acbac0b6d49f6410ca490c1fe85a082650ee9c23f63d',\n",
    "    'lock_id': '9399008',\n",
    "    'history_description': 'Unlock',\n",
    "    'history_code': 'chưa biết',\n",
    "    'history_date': formatted_datetime,\n",
    "}\n",
    "response = requests.post(api_url, json=data)\n",
    "print(response.text)  # Phản hồi từ API"
   ]
  }
 ],
 "metadata": {
  "kernelspec": {
   "display_name": "env1",
   "language": "python",
   "name": "python3"
  },
  "language_info": {
   "codemirror_mode": {
    "name": "ipython",
    "version": 3
   },
   "file_extension": ".py",
   "mimetype": "text/x-python",
   "name": "python",
   "nbconvert_exporter": "python",
   "pygments_lexer": "ipython3",
   "version": "3.10.9"
  },
  "orig_nbformat": 4
 },
 "nbformat": 4,
 "nbformat_minor": 2
}
